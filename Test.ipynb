{
 "cells": [
  {
   "cell_type": "code",
   "execution_count": 76,
   "id": "1f6cbfb4",
   "metadata": {},
   "outputs": [],
   "source": [
    "import numpy as np\n",
    "import torch\n",
    "import torchvision\n",
    "import torch.nn as nn\n",
    "import torch.optim as optim\n",
    "import torch.nn.functional as F\n",
    "from torchvision import transforms, utils, datasets, models\n",
    "from torchvision.utils import make_grid\n",
    "from torch.utils.data import Dataset, DataLoader, SubsetRandomSampler\n",
    "import warnings\n",
    "warnings.filterwarnings('ignore')\n",
    "import os\n",
    "import seaborn as sn\n",
    "import pandas as pd\n",
    "import matplotlib.pyplot as plt"
   ]
  },
  {
   "cell_type": "code",
   "execution_count": 86,
   "id": "d19ea2a1",
   "metadata": {
    "scrolled": false
   },
   "outputs": [
    {
     "name": "stdout",
     "output_type": "stream",
     "text": [
      "\n",
      "Batch:1\n",
      "0:\t Label =  Apple \tClassification = Apple\n",
      "1:\t Label =  Apple \tClassification = Apple\n",
      "2:\t Label =  Apple \tClassification = Apple\n",
      "3:\t Label =  Not-Apple \tClassification = Not-Apple\n",
      "4:\t Label =  Apple \tClassification = Apple\n",
      "5:\t Label =  Apple \tClassification = Apple\n",
      "6:\t Label =  Apple \tClassification = Apple\n",
      "7:\t Label =  Not-Apple \tClassification = Not-Apple\n",
      "8:\t Label =  Not-Apple \tClassification = Not-Apple\n",
      "9:\t Label =  Not-Apple \tClassification = Not-Apple\n",
      "10:\t Label =  Not-Apple \tClassification = Not-Apple\n",
      "11:\t Label =  Apple \tClassification = Apple\n",
      "12:\t Label =  Not-Apple \tClassification = Not-Apple\n",
      "13:\t Label =  Apple \tClassification = Apple\n",
      "14:\t Label =  Apple \tClassification = Apple\n",
      "15:\t Label =  Not-Apple \tClassification = Not-Apple\n",
      "16:\t Label =  Not-Apple \tClassification = Apple \t\tMisclassified\n",
      "17:\t Label =  Not-Apple \tClassification = Not-Apple\n",
      "18:\t Label =  Not-Apple \tClassification = Not-Apple\n",
      "19:\t Label =  Apple \tClassification = Apple\n"
     ]
    },
    {
     "data": {
      "image/png": "[encoded data removed]",
      "text/plain": [
       "<Figure size 432x288 with 2 Axes>"
      ]
     },
     "metadata": {
      "needs_background": "light"
     },
     "output_type": "display_data"
    },
    {
     "name": "stdout",
     "output_type": "stream",
     "text": [
      "\n",
      "Accuracy:0.949999988079071\n"
     ]
    }
   ],
   "source": [
    "# Test: folder with 20 elements for testing\n",
    "\n",
    "data_dir = 'Apple_Notapple_data/Test'\n",
    "\n",
    "if len(os.listdir(data_dir + '/Apple')) == 0 and len(os.listdir(data_dir + '/Notapple')) == 0:\n",
    "    print(str(data_dir) + \" is empty\")\n",
    "else:    \n",
    "    test_transforms = transforms.Compose([transforms.Resize(255),\n",
    "                                          transforms.CenterCrop(224),\n",
    "                                          transforms.ToTensor(),\n",
    "                                          transforms.Normalize([0.5, 0.5, 0.5],\n",
    "                                                               [0.5, 0.5, 0.5])])\n",
    "\n",
    "    test_data = datasets.ImageFolder(data_dir, transform=test_transforms)\n",
    "    testloader = torch.utils.data.DataLoader(test_data, batch_size=50, shuffle=True)\n",
    "    \n",
    "    model = torch.load('AppleClassifier.pth')\n",
    "    model.load_state_dict(torch.load('apple_classifier.pt'))\n",
    "    \n",
    "    device = torch.device(\"cuda\" if torch.cuda.is_available() else \"cpu\")\n",
    "\n",
    "    model.to(device)\n",
    "    criterion = nn.NLLLoss()\n",
    "\n",
    "    # Only train the classifier parameters, feature parameters are frozen\n",
    "    optimizer = optim.Adam(model.classifier.parameters(), lr=0.001)\n",
    "    \n",
    "    tP = 0\n",
    "    fP = 0\n",
    "    fN = 0\n",
    "    tN = 0\n",
    "\n",
    "    test_loss = 0\n",
    "    accuracy = 0\n",
    "    count = 0\n",
    "    model.eval()\n",
    " \n",
    "    with torch.no_grad():\n",
    "        for inputs, labels in testloader:\n",
    "            inputs, labels = inputs.to(device), labels.to(device)\n",
    "            logps = model.forward(inputs)\n",
    "            batch_loss = criterion(logps, labels)\n",
    "                    \n",
    "            test_loss += batch_loss.item()\n",
    "                    \n",
    "            # Calculate accuracy\n",
    "            ps = torch.exp(logps)\n",
    "            top_p, top_class = ps.topk(1, dim=1)\n",
    "            equals = top_class == labels.view(*top_class.shape)\n",
    "            accuracy += torch.mean(equals.type(torch.FloatTensor)).item()\n",
    "\n",
    "            count += 1\n",
    "            print('\\nBatch:' + str(count))\n",
    "\n",
    "            for i, top in enumerate(top_class):\n",
    "                if equals[i] == True:\n",
    "                    if top == 0:\n",
    "                        tP += 1\n",
    "                        print(str(i) + ':\\t Label =  Apple \\tClassification = Apple')\n",
    "                    else: \n",
    "                        tN += 1\n",
    "                        print(str(i) + ':\\t Label =  Not-Apple \\tClassification = Not-Apple')\n",
    "                else:\n",
    "                    if top == 0:\n",
    "                        fP += 1\n",
    "                        print(str(i) + ':\\t Label =  Not-Apple \\tClassification = Apple \\t\\tMisclassified')\n",
    "                    else: \n",
    "                        fN += 1\n",
    "                        print(str(i) + ':\\t Label =  Apple \\tClassification = Not-Apple \\tMisclassified')\n",
    "    \n",
    "    con_mtx = [[tP, fP],[fN, tN]]\n",
    "    df_cm = pd.DataFrame(con_mtx, index = [i for i in \"Apple Not-Apple\".split(' ')],\n",
    "                         columns = [i for i in \"Apple Not-Apple\".split(' ')])\n",
    "    sn.heatmap(df_cm, annot=True)\n",
    "    plt.show()\n",
    "    \n",
    "    print('\\nAccuracy:' + str(accuracy/len(testloader)))"
   ]
  },
  {
   "cell_type": "code",
   "execution_count": null,
   "id": "3d90abae",
   "metadata": {},
   "outputs": [],
   "source": []
  }
 ],
 "metadata": {
  "kernelspec": {
   "display_name": "Python 3",
   "language": "python",
   "name": "python3"
  },
  "language_info": {
   "codemirror_mode": {
    "name": "ipython",
    "version": 3
   },
   "file_extension": ".py",
   "mimetype": "text/x-python",
   "name": "python",
   "nbconvert_exporter": "python",
   "pygments_lexer": "ipython3",
   "version": "3.9.2"
  }
 },
 "nbformat": 4,
 "nbformat_minor": 5
}
